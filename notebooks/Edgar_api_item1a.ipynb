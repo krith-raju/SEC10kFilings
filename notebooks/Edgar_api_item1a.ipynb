{
 "cells": [
  {
   "cell_type": "code",
   "execution_count": 3,
   "id": "5c3cf361-4510-4451-a38d-de2e4b8c163b",
   "metadata": {},
   "outputs": [],
   "source": [
    "from edgar import Company, set_identity\n",
    "import re\n",
    "import os\n",
    "\n",
    "# Function to find the year in the filing text based on your specified pattern\n",
    "def find_year_in_text(text):\n",
    "    \n",
    "    pattern = r'\\b(19|20)\\d{2}(?=-\\d{2}-\\d{2})'\n",
    "    # Searching for the first match\n",
    "    match = re.search(pattern, text)\n",
    "    if match:\n",
    "        return match.group()  # Returns the first occurrence of the year\n",
    "    else:\n",
    "        return \"Year not found\"\n",
    "\n",
    "def clean_text(text):\n",
    "    \"\"\"Clean the input text by removing unreadable characters and extra spaces.\"\"\"\n",
    "    # Remove non-ASCII characters\n",
    "    cleaned_text = re.sub(r'[^\\x00-\\x7F]+', ' ', text)\n",
    "    # Replace multiple spaces/newlines with a single space\n",
    "    cleaned_text = re.sub(r'\\s+', ' ', cleaned_text).strip()\n",
    "    return cleaned_text\n",
    "\n",
    "def process_filings(ticker):\n",
    "    # Set your identity as required by the EDGAR API\n",
    "    set_identity(\"Krithu Raju kraju30@gatech.edu\")\n",
    "\n",
    "    company_ticker = Company(ticker)\n",
    "    filings = company_ticker.get_filings(form=\"10-K\")\n",
    "    len(filings)\n",
    "\n",
    "    # Set a base path to the data directory\n",
    "    base_path = os.path.join('..', 'data')\n",
    "\n",
    "    filing_folder = \"item1a_filings\"\n",
    "    filing_path = os.path.join(base_path, filing_folder)\n",
    "    ticker_path = os.path.join(filing_path, ticker)\n",
    "    os.makedirs(filing_path, exist_ok=True)\n",
    "    os.makedirs(ticker_path, exist_ok=True)\n",
    "    \n",
    "    #Limiting to 14 as the Edgartools is not returning past that.\n",
    "    num_filings_to_process = min(14, len(filings))\n",
    "    \n",
    "    for i in range(num_filings_to_process):\n",
    "        filing = filings[i].obj()\n",
    "        item1a = filing[\"Item 1A\"]\n",
    "        #get the balance sheet as a dataframe and get the year from that.\n",
    "        balance_sheet_df = filing.financials.balance_sheet.to_dataframe()\n",
    "        head = balance_sheet_df.head(1)\n",
    "        # Convert the head to a string\n",
    "        str_df = head.to_string(index=False)\n",
    "        #print(str_df)\n",
    "        year = find_year_in_text(str_df) if str_df else \"Year not found\"\n",
    "        print(year)\n",
    "\n",
    "        cleaned_item1a = clean_text(item1a)\n",
    "        filename = f\"{ticker_path}/{ticker}_{year}_item1a.txt\"\n",
    "        \n",
    "        with open(filename, 'w', encoding='utf-8') as file:\n",
    "            file.write(f\"{year}\\n{cleaned_item1a}\")\n",
    "        \n",
    "        print(f\"Processed {filename}\")"
   ]
  },
  {
   "cell_type": "code",
   "execution_count": 5,
   "id": "58d050f6-914e-4ab5-90ca-bfb6700fd069",
   "metadata": {},
   "outputs": [
    {
     "data": {
      "text/html": [
       "<pre style=\"white-space:pre;overflow-x:auto;line-height:normal;font-family:Menlo,'DejaVu Sans Mono',consolas,'Courier New',monospace\"><span style=\"color: #7fbfbf; text-decoration-color: #7fbfbf\">[22:28:01] </span><span style=\"color: #000080; text-decoration-color: #000080\">INFO    </span> Identity of the Edgar REST client set to <span style=\"font-weight: bold\">[</span>Krithu Raju kraju30@gatech.edu<span style=\"font-weight: bold\">]</span>           <a href=\"file://C:\\Users\\rajun\\AppData\\Local\\Programs\\Python\\Python312\\Lib\\site-packages\\edgar\\core.py\" target=\"_blank\"><span style=\"color: #7f7f7f; text-decoration-color: #7f7f7f\">core.py</span></a><span style=\"color: #7f7f7f; text-decoration-color: #7f7f7f\">:</span><a href=\"file://C:\\Users\\rajun\\AppData\\Local\\Programs\\Python\\Python312\\Lib\\site-packages\\edgar\\core.py#155\" target=\"_blank\"><span style=\"color: #7f7f7f; text-decoration-color: #7f7f7f\">155</span></a>\n",
       "</pre>\n"
      ],
      "text/plain": [
       "\u001b[2;36m[22:28:01]\u001b[0m\u001b[2;36m \u001b[0m\u001b[34mINFO    \u001b[0m Identity of the Edgar REST client set to \u001b[1m[\u001b[0mKrithu Raju kraju30@gatech.edu\u001b[1m]\u001b[0m           \u001b]8;id=375016;file://C:\\Users\\rajun\\AppData\\Local\\Programs\\Python\\Python312\\Lib\\site-packages\\edgar\\core.py\u001b\\\u001b[2mcore.py\u001b[0m\u001b]8;;\u001b\\\u001b[2m:\u001b[0m\u001b]8;id=189311;file://C:\\Users\\rajun\\AppData\\Local\\Programs\\Python\\Python312\\Lib\\site-packages\\edgar\\core.py#155\u001b\\\u001b[2m155\u001b[0m\u001b]8;;\u001b\\\n"
      ]
     },
     "metadata": {},
     "output_type": "display_data"
    },
    {
     "name": "stdout",
     "output_type": "stream",
     "text": [
      "2023\n",
      "Processed ..\\data\\item1a_filings\\GOOG/GOOG_2023_item1a.txt\n",
      "2022\n",
      "Processed ..\\data\\item1a_filings\\GOOG/GOOG_2022_item1a.txt\n",
      "2021\n",
      "Processed ..\\data\\item1a_filings\\GOOG/GOOG_2021_item1a.txt\n",
      "2020\n",
      "Processed ..\\data\\item1a_filings\\GOOG/GOOG_2020_item1a.txt\n",
      "2019\n",
      "Processed ..\\data\\item1a_filings\\GOOG/GOOG_2019_item1a.txt\n",
      "2018\n",
      "Processed ..\\data\\item1a_filings\\GOOG/GOOG_2018_item1a.txt\n",
      "2017\n",
      "Processed ..\\data\\item1a_filings\\GOOG/GOOG_2017_item1a.txt\n",
      "2016\n",
      "Processed ..\\data\\item1a_filings\\GOOG/GOOG_2016_item1a.txt\n",
      "2015\n",
      "Processed ..\\data\\item1a_filings\\GOOG/GOOG_2015_item1a.txt\n",
      "Completed processing the filings.\n"
     ]
    }
   ],
   "source": [
    "process_filings(\"GOOG\")\n",
    "print(\"Completed processing the filings.\")"
   ]
  },
  {
   "cell_type": "code",
   "execution_count": null,
   "id": "c188dde4-557d-4820-9c28-a02d4e2d74c9",
   "metadata": {},
   "outputs": [],
   "source": []
  }
 ],
 "metadata": {
  "kernelspec": {
   "display_name": "Python 3 (ipykernel)",
   "language": "python",
   "name": "python3"
  },
  "language_info": {
   "codemirror_mode": {
    "name": "ipython",
    "version": 3
   },
   "file_extension": ".py",
   "mimetype": "text/x-python",
   "name": "python",
   "nbconvert_exporter": "python",
   "pygments_lexer": "ipython3",
   "version": "3.12.3"
  }
 },
 "nbformat": 4,
 "nbformat_minor": 5
}
